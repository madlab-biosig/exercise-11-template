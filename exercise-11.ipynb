{
 "cells": [
  {
   "cell_type": "markdown",
   "metadata": {},
   "source": [
    "<div class=\"alert-block alert-info alert\"> Hello! If this is your first assignment please read the following instructions:\n",
    "\n",
    "Read the questions carefully and code what is asked in the respective code block whenever you see a ``` #TODO: YOUR CODE HERE. ``` \n",
    "It is important to do the Coding tasks IN ORDER, as the majority of coding blocks are dependent on the \n",
    "previous coding blocks in the notebook.\n",
    "Please also note that there is a **raise NotImplementedError()** for each task or function you have to\n",
    "implement, so don't forget to remove it before testing your code, otherwise you will always get a \"not\n",
    "implemented\" error.\n",
    "\n",
    "You need to manually upload the data used in this exercise to Colab. Just create a folder 'data' and paste the respective files into this folder. Otherwise, you will get a 'File not found' error. You can find the data in StudOn.\n",
    "\n",
    "Aside from coding blocks, there are also testing blocks to check whether your implementations\n",
    "are correct, you can run them but do not change the code inside of them.\n",
    "The tests are determined via the ASSERT STATEMENTS that you see on the testing blocks, which can help you \n",
    "out during the coding of the exercises. If you pass all the visible asserts, you will probably get a good \n",
    "grade on the exercise, just remember that there are also hidden tests, so hardcoding the assert statements \n",
    "won't help you.\n",
    "\n",
    "REMEMBER: This Colab notebook DOES NOT HAVE AN AUTOSAVE FUNCTION, so whenever you want to close it, please\n",
    "remember to save it by clicking on the \"file\" tab in the upper left corner of the page, followed by \n",
    "clicking on the \"Save a copy to GitHub\" button and selecting your corresponding GitHub repository:\n",
    "\"madlab-biosig/exercise-x-YourGitHubUsername\"\n",
    "\n",
    "Before you save the final version of your assignment, please make sure everything runs as expected. \n",
    "First, **restart the kernel** (in the menubar, select Kernel$\\rightarrow$Restart) and then **run all \n",
    "cells** (in the menubar, select Cell$\\rightarrow$Run All).\n",
    "</div>"
   ]
  },
  {
   "cell_type": "markdown",
   "metadata": {
    "tags": []
   },
   "source": [
    "### BioSig Exercises WS 24/25\n",
    "---"
   ]
  },
  {
   "cell_type": "markdown",
   "metadata": {},
   "source": [
    "# Exercise 11"
   ]
  },
  {
   "cell_type": "code",
   "execution_count": null,
   "metadata": {
    "tags": []
   },
   "outputs": [],
   "source": [
    "try:\n",
    "    %matplotlib widget\n",
    "    print('Using widgets')\n",
    "except:\n",
    "    try:\n",
    "        print('Using Notebook widgets')\n",
    "        %matplotlib notebook\n",
    "    except:\n",
    "        print('Using static backend')\n",
    "        %matplotlib inline\n",
    "\n",
    "import matplotlib.pyplot as plt\n",
    "plt.rcParams.update({'figure.max_open_warning': 40})\n",
    "import pandas as pd\n",
    "import numpy as np\n",
    "import scipy\n",
    "import scipy.signal"
   ]
  },
  {
   "cell_type": "markdown",
   "metadata": {},
   "source": [
    "## Ex 11.1: Extraction of Q-, R-, and S-peaks\n",
    "\n",
    "To perform waveform analysis on individual heartbeats in an ECG signal, we need to find all relevant peaks within each repetition of the signal.\n",
    "\n",
    "a) Load the example ecg file (`103.csv`) from the data folder using pandas. The signal is sampled at 360 Hz. Apply a band-pass filter to see its effect.\n",
    "\n",
    "b) Load the file `103_all.csv`. It contains the position of all R-peaks in the signal.\n",
    "\n",
    "c) Extract all QRST complexes from the signal by considering a region spanning from 50 ms before until 250 ms after the R-peak.\n",
    "\n",
    "d) Create a function to find the Q-peak by looking for a minimum left of the R-peaks within a reasonable interval.\n",
    "\n",
    "e) Create a function to find the S-peak by looking for a minimum right of the R-peaks within a reasonable interval.\n",
    "\n",
    "f) Add the position of the Q- and the S-peak as new columns to the DataFrame loaded in step b)\n"
   ]
  },
  {
   "cell_type": "code",
   "execution_count": null,
   "metadata": {
    "deletable": false,
    "nbgrader": {
     "cell_type": "code",
     "checksum": "bb17ab021b5812e175466cd6802165a0",
     "grade": false,
     "grade_id": "cell-1729cc2cb7f30c9a",
     "locked": false,
     "schema_version": 3,
     "solution": true,
     "task": false
    },
    "tags": []
   },
   "outputs": [],
   "source": [
    "# Load the data and store it in a pd.Series called signal.\n",
    "# Ensure that the index is in seconds\n",
    "SUBJECT = 103\n",
    "sampling_rate = 360  # hz\n",
    "\n",
    "ecgpath = './data/103.csv'\n",
    "\n",
    "# YOUR CODE HERE\n",
    "raise NotImplementedError()\n",
    "\n",
    "#assert isinstance(signal[0], numpy.float64), 'The datatype for loaded data is not correct'#data type assertion\n",
    "\n",
    "# Apply a fifth order butterworth bandpass filter to the signal (3-50 Hz passband)\n",
    "# Store the filter coefficients as 'b' and 'a'\n",
    "# YOUR CODE HERE\n",
    "raise NotImplementedError()\n",
    "\n"
   ]
  },
  {
   "cell_type": "code",
   "execution_count": null,
   "metadata": {
    "deletable": false,
    "nbgrader": {
     "cell_type": "code",
     "checksum": "915c19c9e40cfe2ee02104bf0610b2e2",
     "grade": false,
     "grade_id": "cell-54743a417aa594bc",
     "locked": false,
     "schema_version": 3,
     "solution": true,
     "task": false
    },
    "tags": []
   },
   "outputs": [],
   "source": [
    "# Load the labeled R-peaks an store them in pd.DataFrame called `peaks`\n",
    "r_peakspath = './data/103_all.csv'\n",
    "# YOUR CODE HERE\n",
    "raise NotImplementedError()"
   ]
  },
  {
   "cell_type": "code",
   "execution_count": null,
   "metadata": {
    "deletable": false,
    "editable": false,
    "nbgrader": {
     "cell_type": "code",
     "checksum": "fc18bd9e6376e20ba0dd192954a4f1b2",
     "grade": true,
     "grade_id": "cell-877b314122cf5c63",
     "locked": true,
     "points": 4,
     "schema_version": 3,
     "solution": false,
     "task": false
    },
    "tags": []
   },
   "outputs": [],
   "source": [
    "##~DO NOT MODIFY THE LINES OF CODE IN THIS BLOCK\n",
    "\n",
    "#assert isinstance(peaks[0], np.float64), 'The datatype for loaded data is not correct'#data type assertion\n",
    "assert peaks.iloc[0, 0] == 265, 'The first R peak was not correctly identified.'\n",
    "print('The first R peak is found correct.')\n"
   ]
  },
  {
   "cell_type": "code",
   "execution_count": null,
   "metadata": {
    "tags": []
   },
   "outputs": [],
   "source": [
    "#PLOTS ARE NOT GRADED!!\n",
    "plt.figure()\n",
    "signal.plot()\n",
    "\n",
    "# r peaks\n",
    "pos = peaks['R']/sampling_rate\n",
    "plt.plot(pos, signal.loc[pos], 'r*')\n",
    "\n",
    "plt.xlabel('time [s]')\n",
    "plt.xlim(200, 205);"
   ]
  },
  {
   "cell_type": "code",
   "execution_count": null,
   "metadata": {
    "deletable": false,
    "nbgrader": {
     "cell_type": "code",
     "checksum": "54f34bbe3c09e8058ce00e9219234518",
     "grade": false,
     "grade_id": "cell-35a744c028a03b2c",
     "locked": false,
     "schema_version": 3,
     "solution": true,
     "task": false
    },
    "tags": []
   },
   "outputs": [],
   "source": [
    "def extract_qrst_complexes(signal, r_peaks, sampling_rate=360):\n",
    "    \"\"\"Extract all qrst complexes from a continous signal.\n",
    "    \n",
    "    Cuts out a region of -50ms to 250ms around each provided R-peak\n",
    "    \n",
    "    Args:\n",
    "        signal: np.array of ecg signal\n",
    "        r_peaks: list of indices indicating the postion of R-peaks in the signal\n",
    "        sampling_rate: Ssampling rate of the recording\n",
    "        \n",
    "    Returns:\n",
    "        qrst: np.array with fixed number of culumns and one qrst complex per row\n",
    "    \"\"\"\n",
    "    signal = np.array(signal)\n",
    "    # YOUR CODE HERE\n",
    "    raise NotImplementedError()\n",
    "    return qrst"
   ]
  },
  {
   "cell_type": "code",
   "execution_count": null,
   "metadata": {
    "tags": []
   },
   "outputs": [],
   "source": [
    "qrst_complexes = extract_qrst_complexes(signal, r_peaks=peaks['R'])"
   ]
  },
  {
   "cell_type": "code",
   "execution_count": null,
   "metadata": {
    "deletable": false,
    "editable": false,
    "nbgrader": {
     "cell_type": "code",
     "checksum": "8c1ae30358e2a08f03685607bd9f6519",
     "grade": true,
     "grade_id": "cell-ddc6759892bf83bc",
     "locked": true,
     "points": 6,
     "schema_version": 3,
     "solution": false,
     "task": false
    },
    "tags": []
   },
   "outputs": [],
   "source": [
    "##~DO NOT MODIFY THE LINES OF CODE IN THIS BLOCK\n",
    "\n",
    "assert abs(sum(sum(qrst_complexes[0:1040][0:1400])) - 2836.8060839440473) < 1e-3, 'The half of the extracted qrst complexes are wrong'\n",
    "print('The half of the extracted qrst complexes are correct.')\n",
    "assert isinstance(qrst_complexes[1][1], np.float64), 'The datatype for filter coefficients is not correct'#data type assertion\n",
    "\n"
   ]
  },
  {
   "cell_type": "code",
   "execution_count": null,
   "metadata": {
    "deletable": false,
    "nbgrader": {
     "cell_type": "code",
     "checksum": "df247e2936955c788b3fb8899cfe7464",
     "grade": false,
     "grade_id": "cell-73abbbb40477df25",
     "locked": false,
     "schema_version": 3,
     "solution": true,
     "task": false
    },
    "tags": []
   },
   "outputs": [],
   "source": [
    "def find_q_peak(qrst, sampling_rate=360):\n",
    "    \"\"\"Find the Q peak in an array of qrst complexes extracted before.\n",
    "    \n",
    "    The Q peak is the first valley to the left of the R-Peak\n",
    "    \n",
    "    Returns:\n",
    "        The relative distance from the R-Peak in samples\n",
    "    \"\"\"\n",
    "    # YOUR CODE HERE\n",
    "    raise NotImplementedError()\n",
    "    return index_q\n",
    "\n",
    "def find_s_peak(qrst, sampling_rate=360):\n",
    "    \"\"\"Find the S peak in an array of qrst complexes extracted before.\n",
    "    \n",
    "    The S peak is the first valley to the right of the R-Peak\n",
    "    \n",
    "    Returns:\n",
    "        The relative distance from the R-Peak in samples\n",
    "    \"\"\"\n",
    "    # YOUR CODE HERE\n",
    "    raise NotImplementedError()\n",
    "    return index_s"
   ]
  },
  {
   "cell_type": "code",
   "execution_count": null,
   "metadata": {
    "tags": []
   },
   "outputs": [],
   "source": [
    "peaks['Q'] = peaks['R'] - find_q_peak(qrst_complexes)\n",
    "peaks['S'] = peaks['R'] + find_s_peak(qrst_complexes)\n",
    "peaks.head(5)"
   ]
  },
  {
   "cell_type": "code",
   "execution_count": null,
   "metadata": {
    "deletable": false,
    "editable": false,
    "nbgrader": {
     "cell_type": "code",
     "checksum": "a791a3a2b4d8a90ea22594f29481e2eb",
     "grade": true,
     "grade_id": "cell-f1751529e9be2a06",
     "locked": true,
     "points": 4,
     "schema_version": 3,
     "solution": false,
     "task": false
    },
    "tags": []
   },
   "outputs": [],
   "source": [
    "##~DO NOT MODIFY THE LINES OF CODE IN THIS BLOCK\n",
    "\n",
    "assert peaks['Q'][0] == 254, 'The first Q peak is found wrong.'\n",
    "assert peaks['S'][0] == 273, 'The first S peak is found wrong.'\n",
    "print('The first Q and S peaks are found correct.')\n",
    "\n"
   ]
  },
  {
   "cell_type": "code",
   "execution_count": null,
   "metadata": {
    "tags": []
   },
   "outputs": [],
   "source": [
    "plt.figure()#PLOTS Are NOT GRADED!!\n",
    "plt.plot(signal)\n",
    "\n",
    "peak_pos = peaks[['Q', 'R', 'S']] / sampling_rate\n",
    "plt.plot(peak_pos['R'], signal.loc[peak_pos['R']], 'r*')\n",
    "plt.plot(peak_pos['S'], signal.loc[peak_pos['S']], 'go')\n",
    "plt.plot(peak_pos['Q'], signal.loc[peak_pos['Q']], 'ks')\n",
    "\n",
    "plt.xlabel('time [s]')\n",
    "plt.xlim(200, 205);"
   ]
  },
  {
   "cell_type": "markdown",
   "metadata": {},
   "source": [
    "## Ex. 11.2: ECG feature"
   ]
  },
  {
   "cell_type": "markdown",
   "metadata": {},
   "source": [
    "To describe each extracted QRST complexes we can calculate a set of features on each complex.\n",
    "These features can later be used in a ML classification.\n",
    "\n",
    "a) Implement the following features and add each of them as a new column to the `peaks` array:\n",
    "\n",
    "1. Compute the QRS widths as the difference between the S-peaks and the Q-peaks\n",
    "\n",
    "2. Compute the amplitude of the QR difference\n",
    "\n",
    "3. Compute the amplitude of the RS difference\n",
    "\n",
    "4. Compute the area below the QRST curve as follows: \n",
    "\n",
    "- Subtract the mean of each QRST complex from each complex. \n",
    "- take the absolut of all values \n",
    "- Compute the area of the resulting curve by summing up all the elements. \n",
    "\n",
    "5. Compute the normalized scalar product of a QRS complex and the template of a normal QRS complex with the following formula: \n",
    "$$\n",
    "c=\\frac{\\sum_{n = 1}^{N} [x(n) - min(x)] [y (n) - min(y)]}{\\sqrt{\\sum_{n=1}^{N}[x(n) - min(x)]^2 \\sum_{n=1}^{N}[y(n) - min(y)]^2 }}\n",
    "$$\n",
    "$x(n) = $ template (first QRS complex of the ECG signal),\n",
    "$y(n) = $ the QRS complex of interest,\n",
    "$N = $ amount of samples the heartbeat contains,\n",
    "\n",
    "b) Plot the results of all features and visually inspect potential outliers."
   ]
  },
  {
   "cell_type": "code",
   "execution_count": null,
   "metadata": {
    "deletable": false,
    "nbgrader": {
     "cell_type": "code",
     "checksum": "44ac8714db90b05c20381a4b07aef8d6",
     "grade": false,
     "grade_id": "cell-b9805980f5b5bfae",
     "locked": false,
     "schema_version": 3,
     "solution": true,
     "task": false
    },
    "tags": []
   },
   "outputs": [],
   "source": [
    "# Implement the following feature and add each of them as a new column to the `peaks` array\n",
    "\n",
    "# QRS-width\n",
    "# Calculate the distance between the S- and the Q-\"valley\" in seconds. The column should be named as 'QRS_Width'\n",
    "# YOUR CODE HERE\n",
    "raise NotImplementedError()\n",
    "\n",
    "# QR Amplitude difference\n",
    "# Calculate the amplitude difference between the R-peak and the Q-valey. The column should be named as 'QR_amplitude'\n",
    "# YOUR CODE HERE\n",
    "raise NotImplementedError()\n",
    "\n",
    "# RS Amplitude difference\n",
    "# Calculate the amplitude difference between the R-peak and the S-valey. The column should be named as 'RS_amplitude'\n",
    "# YOUR CODE HERE\n",
    "raise NotImplementedError()\n",
    "\n",
    "# QRST Area\n",
    "# Calculate the area under each QRST complex after substracting the mean value of each complex to\n",
    "# normalize the baseline. The column should be named as 'QRST_area'\n",
    "# YOUR CODE HERE\n",
    "raise NotImplementedError()\n",
    "\n",
    "# Template Match\n",
    "# We assume the first peak in the series is a normal QRST complex\n",
    "# Substract the baseline (minimum) from every qrst complex and then calculate the normalised dot-product (a*b/(|a||b|))\n",
    "# YOUR CODE HERE\n",
    "raise NotImplementedError()"
   ]
  },
  {
   "cell_type": "code",
   "execution_count": null,
   "metadata": {
    "deletable": false,
    "editable": false,
    "nbgrader": {
     "cell_type": "code",
     "checksum": "1afcbac0c6d55189878ac62232e92a28",
     "grade": true,
     "grade_id": "cell-fd777a3b86c4a9c3",
     "locked": true,
     "points": 6,
     "schema_version": 3,
     "solution": false,
     "task": false
    },
    "tags": []
   },
   "outputs": [],
   "source": [
    "##~DO NOT MODIFY THE LINES OF CODE IN THIS BLOCK\n",
    "\n",
    "assert abs(sum(peaks['QRS_Width'][0:1040]) - 53.91388888888858) < 1e-3, 'Half of the samples for the QRS_Width are wrong'\n",
    "assert abs(sum(peaks['QR_amplitude'][0:1040]) - 2496.889959835294) < 1e-3, 'Half of the samples for the QR_amplitude are wrong'\n",
    "assert abs(sum(peaks['RS_amplitude'][0:1040]) - 2483.7101152334803) < 1e-3, 'Half of the samples for the RS_amplitude are wrong'\n",
    "assert abs(sum(peaks['QRST_area'][0:1040]) - 32009.79782801534) < 1e-3, 'Half of the samples for the QRST_area are wrong'\n",
    "\n",
    "assert isinstance(peaks['QRS_Width'][1], np.float64), 'The datatype for QRS Width is not correct'\n",
    "assert isinstance(peaks['QR_amplitude'][1], np.float64), 'The datatype for QR Amplitude is not correct'\n",
    "assert isinstance(peaks['RS_amplitude'][1], np.float64), 'The datatype for RS Amplitude is not correct'\n",
    "assert isinstance(peaks['QRST_area'][1], np.float64), 'The datatype for QRST Area is not correct'\n",
    "print(\"Tests passed\")\n"
   ]
  },
  {
   "cell_type": "markdown",
   "metadata": {
    "tags": []
   },
   "source": [
    "fig, axs = plt.subplots(nrows=2, ncols=3, sharex=True, figsize=(9, 5))\n",
    "\n",
    "for ax, feature in zip(axs.flatten(), ['QRS_Width', 'QR_amplitude', 'RS_amplitude', 'QRST_area', 'Template']):\n",
    "    ax.plot(peaks['R']/sampling_rate, peaks[feature])\n",
    "    ax.set_title(feature)\n",
    "\n",
    "axs[1, 1].set_xlabel('time [s]')\n",
    "plt.tight_layout()\n",
    "axs[1, -1].remove()"
   ]
  },
  {
   "cell_type": "markdown",
   "metadata": {},
   "source": [
    "## Ex. 11.3: Critical analysis of the pipeline\n",
    "\n",
    "a) Look through the results and the plotted ECG signal. What are potential issues that could have effected our feature calculation?\n",
    "\n",
    "b) How could we solve these issues?"
   ]
  },
  {
   "cell_type": "code",
   "execution_count": null,
   "metadata": {},
   "outputs": [],
   "source": []
  },
  {
   "cell_type": "code",
   "execution_count": null,
   "metadata": {},
   "outputs": [],
   "source": []
  }
 ],
 "metadata": {
  "kernelspec": {
   "display_name": "Python 3 (ipykernel)",
   "language": "python",
   "name": "python3"
  },
  "language_info": {
   "codemirror_mode": {
    "name": "ipython",
    "version": 3
   },
   "file_extension": ".py",
   "mimetype": "text/x-python",
   "name": "python",
   "nbconvert_exporter": "python",
   "pygments_lexer": "ipython3",
   "version": "3.8.18"
  },
  "widgets": {
   "application/vnd.jupyter.widget-state+json": {
    "state": {
     "18c3bc75ed124f2ea94a97793822d852": {
      "model_module": "@jupyter-widgets/base",
      "model_module_version": "1.2.0",
      "model_name": "LayoutModel",
      "state": {
       "_model_module": "@jupyter-widgets/base",
       "_model_module_version": "1.2.0",
       "_model_name": "LayoutModel",
       "_view_count": null,
       "_view_module": "@jupyter-widgets/base",
       "_view_module_version": "1.2.0",
       "_view_name": "LayoutView",
       "align_content": null,
       "align_items": null,
       "align_self": null,
       "border": null,
       "bottom": null,
       "display": null,
       "flex": null,
       "flex_flow": null,
       "grid_area": null,
       "grid_auto_columns": null,
       "grid_auto_flow": null,
       "grid_auto_rows": null,
       "grid_column": null,
       "grid_gap": null,
       "grid_row": null,
       "grid_template_areas": null,
       "grid_template_columns": null,
       "grid_template_rows": null,
       "height": null,
       "justify_content": null,
       "justify_items": null,
       "left": null,
       "margin": null,
       "max_height": null,
       "max_width": null,
       "min_height": null,
       "min_width": null,
       "object_fit": null,
       "object_position": null,
       "order": null,
       "overflow": null,
       "overflow_x": null,
       "overflow_y": null,
       "padding": null,
       "right": null,
       "top": null,
       "visibility": null,
       "width": null
      }
     },
     "2b10c9fe210748fb871fa99d8fb6183d": {
      "model_module": "jupyter-matplotlib",
      "model_module_version": "^0.10.0",
      "model_name": "MPLCanvasModel",
      "state": {
       "_cursor": "pointer",
       "_dom_classes": [],
       "_figure_label": "Figure",
       "_height": 0,
       "_image_mode": "full",
       "_message": "",
       "_model_module": "jupyter-matplotlib",
       "_model_module_version": "^0.10.0",
       "_model_name": "MPLCanvasModel",
       "_rubberband_height": 0,
       "_rubberband_width": 0,
       "_rubberband_x": 0,
       "_rubberband_y": 0,
       "_view_count": null,
       "_view_module": "jupyter-matplotlib",
       "_view_module_version": "^0.10.0",
       "_view_name": "MPLCanvasView",
       "_width": 0,
       "capture_scroll": false,
       "footer_visible": true,
       "header_visible": true,
       "layout": "IPY_MODEL_b9b9cc88f11f43a7bc38e8a2327185a8",
       "resizable": true,
       "toolbar": "IPY_MODEL_3fbb1464949f4026a45806db1892b99b",
       "toolbar_position": "left",
       "toolbar_visible": true
      }
     },
     "3fbb1464949f4026a45806db1892b99b": {
      "model_module": "jupyter-matplotlib",
      "model_module_version": "^0.10.0",
      "model_name": "ToolbarModel",
      "state": {
       "_current_action": "",
       "_dom_classes": [],
       "_model_module": "jupyter-matplotlib",
       "_model_module_version": "^0.10.0",
       "_model_name": "ToolbarModel",
       "_view_count": null,
       "_view_module": "jupyter-matplotlib",
       "_view_module_version": "^0.10.0",
       "_view_name": "ToolbarView",
       "button_style": "",
       "collapsed": true,
       "layout": "IPY_MODEL_a1675acb125a444ebcd4b2afcb339ca3",
       "orientation": "vertical",
       "toolitems": [
        [
         "Home",
         "Reset original view",
         "home",
         "home"
        ],
        [
         "Back",
         "Back to previous view",
         "arrow-left",
         "back"
        ],
        [
         "Forward",
         "Forward to next view",
         "arrow-right",
         "forward"
        ],
        [
         "Pan",
         "Left button pans, Right button zooms\nx/y fixes axis, CTRL fixes aspect",
         "arrows",
         "pan"
        ],
        [
         "Zoom",
         "Zoom to rectangle\nx/y fixes axis, CTRL fixes aspect",
         "square-o",
         "zoom"
        ],
        [
         "Download",
         "Download plot",
         "floppy-o",
         "save_figure"
        ]
       ]
      }
     },
     "456b8157dc8046daa56e1a95ffc360cc": {
      "model_module": "jupyter-matplotlib",
      "model_module_version": "^0.10.0",
      "model_name": "ToolbarModel",
      "state": {
       "_current_action": "",
       "_dom_classes": [],
       "_model_module": "jupyter-matplotlib",
       "_model_module_version": "^0.10.0",
       "_model_name": "ToolbarModel",
       "_view_count": null,
       "_view_module": "jupyter-matplotlib",
       "_view_module_version": "^0.10.0",
       "_view_name": "ToolbarView",
       "button_style": "",
       "collapsed": true,
       "layout": "IPY_MODEL_18c3bc75ed124f2ea94a97793822d852",
       "orientation": "vertical",
       "toolitems": [
        [
         "Home",
         "Reset original view",
         "home",
         "home"
        ],
        [
         "Back",
         "Back to previous view",
         "arrow-left",
         "back"
        ],
        [
         "Forward",
         "Forward to next view",
         "arrow-right",
         "forward"
        ],
        [
         "Pan",
         "Left button pans, Right button zooms\nx/y fixes axis, CTRL fixes aspect",
         "arrows",
         "pan"
        ],
        [
         "Zoom",
         "Zoom to rectangle\nx/y fixes axis, CTRL fixes aspect",
         "square-o",
         "zoom"
        ],
        [
         "Download",
         "Download plot",
         "floppy-o",
         "save_figure"
        ]
       ]
      }
     },
     "5425f70fb6d24b78b1ae656e377664c0": {
      "model_module": "@jupyter-widgets/base",
      "model_module_version": "1.2.0",
      "model_name": "LayoutModel",
      "state": {
       "_model_module": "@jupyter-widgets/base",
       "_model_module_version": "1.2.0",
       "_model_name": "LayoutModel",
       "_view_count": null,
       "_view_module": "@jupyter-widgets/base",
       "_view_module_version": "1.2.0",
       "_view_name": "LayoutView",
       "align_content": null,
       "align_items": null,
       "align_self": null,
       "border": null,
       "bottom": null,
       "display": null,
       "flex": null,
       "flex_flow": null,
       "grid_area": null,
       "grid_auto_columns": null,
       "grid_auto_flow": null,
       "grid_auto_rows": null,
       "grid_column": null,
       "grid_gap": null,
       "grid_row": null,
       "grid_template_areas": null,
       "grid_template_columns": null,
       "grid_template_rows": null,
       "height": null,
       "justify_content": null,
       "justify_items": null,
       "left": null,
       "margin": null,
       "max_height": null,
       "max_width": null,
       "min_height": null,
       "min_width": null,
       "object_fit": null,
       "object_position": null,
       "order": null,
       "overflow": null,
       "overflow_x": null,
       "overflow_y": null,
       "padding": null,
       "right": null,
       "top": null,
       "visibility": null,
       "width": null
      }
     },
     "593ed1448bfd44e29f7e1f133b0d7128": {
      "model_module": "jupyter-matplotlib",
      "model_module_version": "^0.10.0",
      "model_name": "MPLCanvasModel",
      "state": {
       "_cursor": "pointer",
       "_dom_classes": [],
       "_figure_label": "Figure",
       "_height": 0,
       "_image_mode": "full",
       "_message": "",
       "_model_module": "jupyter-matplotlib",
       "_model_module_version": "^0.10.0",
       "_model_name": "MPLCanvasModel",
       "_rubberband_height": 0,
       "_rubberband_width": 0,
       "_rubberband_x": 0,
       "_rubberband_y": 0,
       "_view_count": null,
       "_view_module": "jupyter-matplotlib",
       "_view_module_version": "^0.10.0",
       "_view_name": "MPLCanvasView",
       "_width": 0,
       "capture_scroll": false,
       "footer_visible": true,
       "header_visible": true,
       "layout": "IPY_MODEL_994177dd6b834f68948a11bf3b71f0b5",
       "resizable": true,
       "toolbar": "IPY_MODEL_e44f860e78cd4ff7b0cdfa80009f70a2",
       "toolbar_position": "left",
       "toolbar_visible": true
      }
     },
     "75d9c7a5a9494764b3c282d0653483c6": {
      "model_module": "@jupyter-widgets/base",
      "model_module_version": "1.2.0",
      "model_name": "LayoutModel",
      "state": {
       "_model_module": "@jupyter-widgets/base",
       "_model_module_version": "1.2.0",
       "_model_name": "LayoutModel",
       "_view_count": null,
       "_view_module": "@jupyter-widgets/base",
       "_view_module_version": "1.2.0",
       "_view_name": "LayoutView",
       "align_content": null,
       "align_items": null,
       "align_self": null,
       "border": null,
       "bottom": null,
       "display": null,
       "flex": null,
       "flex_flow": null,
       "grid_area": null,
       "grid_auto_columns": null,
       "grid_auto_flow": null,
       "grid_auto_rows": null,
       "grid_column": null,
       "grid_gap": null,
       "grid_row": null,
       "grid_template_areas": null,
       "grid_template_columns": null,
       "grid_template_rows": null,
       "height": null,
       "justify_content": null,
       "justify_items": null,
       "left": null,
       "margin": null,
       "max_height": null,
       "max_width": null,
       "min_height": null,
       "min_width": null,
       "object_fit": null,
       "object_position": null,
       "order": null,
       "overflow": null,
       "overflow_x": null,
       "overflow_y": null,
       "padding": null,
       "right": null,
       "top": null,
       "visibility": null,
       "width": null
      }
     },
     "994177dd6b834f68948a11bf3b71f0b5": {
      "model_module": "@jupyter-widgets/base",
      "model_module_version": "1.2.0",
      "model_name": "LayoutModel",
      "state": {
       "_model_module": "@jupyter-widgets/base",
       "_model_module_version": "1.2.0",
       "_model_name": "LayoutModel",
       "_view_count": null,
       "_view_module": "@jupyter-widgets/base",
       "_view_module_version": "1.2.0",
       "_view_name": "LayoutView",
       "align_content": null,
       "align_items": null,
       "align_self": null,
       "border": null,
       "bottom": null,
       "display": null,
       "flex": null,
       "flex_flow": null,
       "grid_area": null,
       "grid_auto_columns": null,
       "grid_auto_flow": null,
       "grid_auto_rows": null,
       "grid_column": null,
       "grid_gap": null,
       "grid_row": null,
       "grid_template_areas": null,
       "grid_template_columns": null,
       "grid_template_rows": null,
       "height": null,
       "justify_content": null,
       "justify_items": null,
       "left": null,
       "margin": null,
       "max_height": null,
       "max_width": null,
       "min_height": null,
       "min_width": null,
       "object_fit": null,
       "object_position": null,
       "order": null,
       "overflow": null,
       "overflow_x": null,
       "overflow_y": null,
       "padding": null,
       "right": null,
       "top": null,
       "visibility": null,
       "width": null
      }
     },
     "a1675acb125a444ebcd4b2afcb339ca3": {
      "model_module": "@jupyter-widgets/base",
      "model_module_version": "1.2.0",
      "model_name": "LayoutModel",
      "state": {
       "_model_module": "@jupyter-widgets/base",
       "_model_module_version": "1.2.0",
       "_model_name": "LayoutModel",
       "_view_count": null,
       "_view_module": "@jupyter-widgets/base",
       "_view_module_version": "1.2.0",
       "_view_name": "LayoutView",
       "align_content": null,
       "align_items": null,
       "align_self": null,
       "border": null,
       "bottom": null,
       "display": null,
       "flex": null,
       "flex_flow": null,
       "grid_area": null,
       "grid_auto_columns": null,
       "grid_auto_flow": null,
       "grid_auto_rows": null,
       "grid_column": null,
       "grid_gap": null,
       "grid_row": null,
       "grid_template_areas": null,
       "grid_template_columns": null,
       "grid_template_rows": null,
       "height": null,
       "justify_content": null,
       "justify_items": null,
       "left": null,
       "margin": null,
       "max_height": null,
       "max_width": null,
       "min_height": null,
       "min_width": null,
       "object_fit": null,
       "object_position": null,
       "order": null,
       "overflow": null,
       "overflow_x": null,
       "overflow_y": null,
       "padding": null,
       "right": null,
       "top": null,
       "visibility": null,
       "width": null
      }
     },
     "b9b9cc88f11f43a7bc38e8a2327185a8": {
      "model_module": "@jupyter-widgets/base",
      "model_module_version": "1.2.0",
      "model_name": "LayoutModel",
      "state": {
       "_model_module": "@jupyter-widgets/base",
       "_model_module_version": "1.2.0",
       "_model_name": "LayoutModel",
       "_view_count": null,
       "_view_module": "@jupyter-widgets/base",
       "_view_module_version": "1.2.0",
       "_view_name": "LayoutView",
       "align_content": null,
       "align_items": null,
       "align_self": null,
       "border": null,
       "bottom": null,
       "display": null,
       "flex": null,
       "flex_flow": null,
       "grid_area": null,
       "grid_auto_columns": null,
       "grid_auto_flow": null,
       "grid_auto_rows": null,
       "grid_column": null,
       "grid_gap": null,
       "grid_row": null,
       "grid_template_areas": null,
       "grid_template_columns": null,
       "grid_template_rows": null,
       "height": null,
       "justify_content": null,
       "justify_items": null,
       "left": null,
       "margin": null,
       "max_height": null,
       "max_width": null,
       "min_height": null,
       "min_width": null,
       "object_fit": null,
       "object_position": null,
       "order": null,
       "overflow": null,
       "overflow_x": null,
       "overflow_y": null,
       "padding": null,
       "right": null,
       "top": null,
       "visibility": null,
       "width": null
      }
     },
     "bc00da92aa39418f843195e39228beae": {
      "model_module": "jupyter-matplotlib",
      "model_module_version": "^0.10.0",
      "model_name": "MPLCanvasModel",
      "state": {
       "_cursor": "pointer",
       "_dom_classes": [],
       "_figure_label": "Figure",
       "_height": 0,
       "_image_mode": "full",
       "_message": "",
       "_model_module": "jupyter-matplotlib",
       "_model_module_version": "^0.10.0",
       "_model_name": "MPLCanvasModel",
       "_rubberband_height": 0,
       "_rubberband_width": 0,
       "_rubberband_x": 0,
       "_rubberband_y": 0,
       "_view_count": null,
       "_view_module": "jupyter-matplotlib",
       "_view_module_version": "^0.10.0",
       "_view_name": "MPLCanvasView",
       "_width": 0,
       "capture_scroll": false,
       "footer_visible": true,
       "header_visible": true,
       "layout": "IPY_MODEL_75d9c7a5a9494764b3c282d0653483c6",
       "resizable": true,
       "toolbar": "IPY_MODEL_456b8157dc8046daa56e1a95ffc360cc",
       "toolbar_position": "left",
       "toolbar_visible": true
      }
     },
     "e44f860e78cd4ff7b0cdfa80009f70a2": {
      "model_module": "jupyter-matplotlib",
      "model_module_version": "^0.10.0",
      "model_name": "ToolbarModel",
      "state": {
       "_current_action": "",
       "_dom_classes": [],
       "_model_module": "jupyter-matplotlib",
       "_model_module_version": "^0.10.0",
       "_model_name": "ToolbarModel",
       "_view_count": null,
       "_view_module": "jupyter-matplotlib",
       "_view_module_version": "^0.10.0",
       "_view_name": "ToolbarView",
       "button_style": "",
       "collapsed": true,
       "layout": "IPY_MODEL_5425f70fb6d24b78b1ae656e377664c0",
       "orientation": "vertical",
       "toolitems": [
        [
         "Home",
         "Reset original view",
         "home",
         "home"
        ],
        [
         "Back",
         "Back to previous view",
         "arrow-left",
         "back"
        ],
        [
         "Forward",
         "Forward to next view",
         "arrow-right",
         "forward"
        ],
        [
         "Pan",
         "Left button pans, Right button zooms\nx/y fixes axis, CTRL fixes aspect",
         "arrows",
         "pan"
        ],
        [
         "Zoom",
         "Zoom to rectangle\nx/y fixes axis, CTRL fixes aspect",
         "square-o",
         "zoom"
        ],
        [
         "Download",
         "Download plot",
         "floppy-o",
         "save_figure"
        ]
       ]
      }
     }
    },
    "version_major": 2,
    "version_minor": 0
   }
  }
 },
 "nbformat": 4,
 "nbformat_minor": 4
}
